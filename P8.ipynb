{
 "cells": [
  {
   "cell_type": "markdown",
   "id": "2fb465da",
   "metadata": {},
   "source": [
    "# I.Setup"
   ]
  },
  {
   "cell_type": "markdown",
   "id": "5adae7bb",
   "metadata": {},
   "source": [
    "## I.i Setup libraries"
   ]
  },
  {
   "cell_type": "code",
   "execution_count": 1,
   "id": "d7087fab",
   "metadata": {},
   "outputs": [],
   "source": [
    "import os\n",
    "import boto3\n",
    "\n",
    "from pyspark import SparkContext, SparkConf\n",
    "from pyspark.sql import SparkSession, Row\n",
    "from pyspark.sql.types import *\n",
    "from pyspark.sql.functions import udf, broadcast\n",
    "from pyspark.mllib.clustering import KMeans\n",
    "\n",
    "import sagemaker\n",
    "from sagemaker import get_execution_role\n",
    "import sagemaker_pyspark\n",
    "\n",
    "from PIL import Image, ImageOps, ImageFilter\n",
    "import cv2 as cv\n",
    "\n",
    "\n",
    "from pyspark.sql.functions import col, pandas_udf, PandasUDFType\n",
    "\n",
    "import numpy as np\n",
    "import pandas as pd\n",
    "import matplotlib.pyplot as plt"
   ]
  },
  {
   "cell_type": "code",
   "execution_count": 2,
   "id": "c16d48ee",
   "metadata": {},
   "outputs": [],
   "source": [
    "# get region\n",
    "region = boto3.session.Session().region_name\n",
    "# get bucket: hang's project 8 of openclassrooms\n",
    "bucket_name = 'hangp8'"
   ]
  },
  {
   "cell_type": "markdown",
   "id": "2a3dcb99",
   "metadata": {},
   "source": [
    "## I.ii Setup of SparkSession \n",
    "(ref: https://sagemaker-examples.readthedocs.io/en/latest/sagemaker-spark/pyspark_mnist/pyspark_mnist_kmeans.html#Setup)"
   ]
  },
  {
   "cell_type": "code",
   "execution_count": 3,
   "id": "75b4e12c",
   "metadata": {},
   "outputs": [
    {
     "data": {
      "text/html": [
       "\n",
       "            <div>\n",
       "                <p><b>SparkSession - in-memory</b></p>\n",
       "                \n",
       "        <div>\n",
       "            <p><b>SparkContext</b></p>\n",
       "\n",
       "            <p><a href=\"http://ip-172-16-57-10.eu-west-1.compute.internal:4040\">Spark UI</a></p>\n",
       "\n",
       "            <dl>\n",
       "              <dt>Version</dt>\n",
       "                <dd><code>v2.4.0</code></dd>\n",
       "              <dt>Master</dt>\n",
       "                <dd><code>local[*]</code></dd>\n",
       "              <dt>AppName</dt>\n",
       "                <dd><code>pyspark-shell</code></dd>\n",
       "            </dl>\n",
       "        </div>\n",
       "        \n",
       "            </div>\n",
       "        "
      ],
      "text/plain": [
       "<pyspark.sql.session.SparkSession at 0x7f1c4b231b00>"
      ]
     },
     "execution_count": 3,
     "metadata": {},
     "output_type": "execute_result"
    }
   ],
   "source": [
    "role = get_execution_role()\n",
    "\n",
    "# Configure Spark to use the SageMaker Spark dependency jars\n",
    "jars = sagemaker_pyspark.classpath_jars()\n",
    "\n",
    "classpath = \":\".join(jars)\n",
    "\n",
    "# Sets the Spark master URL to connect to, run locally with all cores available: 'local[*]'\n",
    "spark = (\n",
    "    SparkSession.builder.config(\"spark.driver.extraClassPath\", classpath)\n",
    "    .master(\"local[*]\")\n",
    "    .getOrCreate()\n",
    ")\n",
    "\n",
    "spark"
   ]
  },
  {
   "cell_type": "markdown",
   "id": "0e4a0ca5",
   "metadata": {},
   "source": [
    "# II. Image data\n",
    "Access your files in S3 without copying files into your instance storage<br>\n",
    "(ref:https://sagemaker-examples.readthedocs.io/en/latest/ingest_data/013_Ingest_image_data_v1.html?highlight=fs.ls#Method-1:-Streaming-data-from-S3-to-the-SageMaker-instance-memory)"
   ]
  },
  {
   "cell_type": "markdown",
   "id": "dc982ab5",
   "metadata": {},
   "source": [
    "## II.i Load label and list"
   ]
  },
  {
   "cell_type": "code",
   "execution_count": 117,
   "id": "7bb25ab8",
   "metadata": {},
   "outputs": [],
   "source": [
    "# save img path and labels\n",
    "# for exploration, we use train sample, which contains 3 categories, 1243 images\n",
    "dir_prefix = 'train_sample/'\n",
    "def get_path_label_list(prefix=dir_prefix, bucket_name=bucket_name):\n",
    "    s3 = boto3.resource('s3', region_name=region)\n",
    "    bucket=bucket_name\n",
    "    my_bucket = s3.Bucket(bucket)\n",
    "    path_label_list = []\n",
    "    for (bucket_name, key) in map(lambda x: (x.bucket_name, x.key), my_bucket.objects.filter(Prefix=prefix)):\n",
    "        # save img path\n",
    "        img_location = \"s3://{}/{}\".format(bucket_name, key)\n",
    "        # save img label\n",
    "        img_label = img_location.split('/')[-2]\n",
    "        path_label_list.append((img_location, img_label))\n",
    "    # remove the root folder\n",
    "    return path_label_list[1:]"
   ]
  },
  {
   "cell_type": "code",
   "execution_count": 118,
   "id": "6767a464",
   "metadata": {},
   "outputs": [
    {
     "name": "stdout",
     "output_type": "stream",
     "text": [
      "Show 1 line of path: ('s3://hangp8/train_sample/Apple Pink Lady/100_100.jpg', 'Apple Pink Lady')\n",
      "There are 1242 images in train_sample.\n"
     ]
    }
   ],
   "source": [
    "# check result of function\n",
    "path_label_list = get_path_label_list()\n",
    "print('Show 1 line of path: {}\\nThere are {} images in train_sample.'.format(path_label_list[0], len(path_label_list)))"
   ]
  },
  {
   "cell_type": "code",
   "execution_count": 126,
   "id": "493f1092",
   "metadata": {},
   "outputs": [],
   "source": [
    "# create spark dataframe\n",
    "def create_df(prefix=dir_prefix, bucket=bucket_name):\n",
    "    data = get_path_label_list(prefix, bucket)\n",
    "    columns = ['path', 'label']\n",
    "    df_data = spark.createDataFrame(data).toDF(*columns)\n",
    "    return df_data"
   ]
  },
  {
   "cell_type": "code",
   "execution_count": 127,
   "id": "e493fab0",
   "metadata": {},
   "outputs": [
    {
     "name": "stdout",
     "output_type": "stream",
     "text": [
      "+----------------------------------------------------+---------------+\n",
      "|path                                                |label          |\n",
      "+----------------------------------------------------+---------------+\n",
      "|s3://hangp8/train_sample/Apple Pink Lady/100_100.jpg|Apple Pink Lady|\n",
      "|s3://hangp8/train_sample/Apple Pink Lady/101_100.jpg|Apple Pink Lady|\n",
      "|s3://hangp8/train_sample/Apple Pink Lady/102_100.jpg|Apple Pink Lady|\n",
      "|s3://hangp8/train_sample/Apple Pink Lady/103_100.jpg|Apple Pink Lady|\n",
      "|s3://hangp8/train_sample/Apple Pink Lady/104_100.jpg|Apple Pink Lady|\n",
      "|s3://hangp8/train_sample/Apple Pink Lady/105_100.jpg|Apple Pink Lady|\n",
      "|s3://hangp8/train_sample/Apple Pink Lady/106_100.jpg|Apple Pink Lady|\n",
      "|s3://hangp8/train_sample/Apple Pink Lady/107_100.jpg|Apple Pink Lady|\n",
      "|s3://hangp8/train_sample/Apple Pink Lady/108_100.jpg|Apple Pink Lady|\n",
      "|s3://hangp8/train_sample/Apple Pink Lady/109_100.jpg|Apple Pink Lady|\n",
      "+----------------------------------------------------+---------------+\n",
      "only showing top 10 rows\n",
      "\n"
     ]
    }
   ],
   "source": [
    "# create a initial pyspark dataframe\n",
    "df_data = create_df()\n",
    "df_data.show(10, truncate=False)"
   ]
  },
  {
   "cell_type": "markdown",
   "id": "8124d89e",
   "metadata": {},
   "source": [
    "## II.ii Preprocess\n",
    "Preprocess including autocontrast, equalization and compute ORB descriptors"
   ]
  },
  {
   "cell_type": "code",
   "execution_count": 128,
   "id": "b96ac746",
   "metadata": {},
   "outputs": [],
   "source": [
    "def preprocess(path_img):\n",
    "    \n",
    "    '''for each image: create preprocessed image array and orb descriptors'''\n",
    "    \n",
    "    my_bucket = bucket_name\n",
    "    # get in-bucket path\n",
    "    key = os.path.relpath(path_img, 's3://'+bucket_name+'/')\n",
    "    \n",
    "    image_object = boto3.resource(\"s3\", region_name=region).Bucket(my_bucket).Object(key)\n",
    "    img = Image.open(image_object.get()[\"Body\"])\n",
    "    \n",
    "    # preprocess\n",
    "    # remove 1% extreme lightest and darkest pixels then maximize image contrast\n",
    "    tmp1 = ImageOps.autocontrast(img, cutoff=1)\n",
    "    # equalize image histogram to creat a uniform distribution of grayscale\n",
    "    tmp2 = ImageOps.equalize(tmp1)\n",
    "    img_out = tmp2\n",
    "    img_prep = np.array(img_out).flatten().tolist()\n",
    "    \n",
    "    # descriptors\n",
    "    # set max feature to retain = 50\n",
    "    orb = cv.ORB_create(nfeatures=50)\n",
    "    _, des = orb.detectAndCompute(np.array(img_out),None)\n",
    "    img_des = ([] if des is None else des.flatten().tolist())\n",
    "    \n",
    "    return (img_prep, img_des)"
   ]
  },
  {
   "cell_type": "code",
   "execution_count": 129,
   "id": "a406880b",
   "metadata": {},
   "outputs": [],
   "source": [
    "schema = StructType([\n",
    "    StructField(\"img_prep\", ArrayType(IntegerType()), False),\n",
    "    StructField(\"img_orb_des\", ArrayType(IntegerType()), False)])\n",
    "\n",
    "preprocess_udf = udf(preprocess, schema)\n",
    "\n",
    "df_data = df_data.withColumn(\"Output\", preprocess_udf('path'))"
   ]
  },
  {
   "cell_type": "code",
   "execution_count": 130,
   "id": "0103ea2b",
   "metadata": {},
   "outputs": [
    {
     "name": "stdout",
     "output_type": "stream",
     "text": [
      "root\n",
      " |-- path: string (nullable = true)\n",
      " |-- label: string (nullable = true)\n",
      " |-- Output: struct (nullable = true)\n",
      " |    |-- img_prep: array (nullable = false)\n",
      " |    |    |-- element: integer (containsNull = true)\n",
      " |    |-- img_orb_des: array (nullable = false)\n",
      " |    |    |-- element: integer (containsNull = true)\n",
      "\n"
     ]
    }
   ],
   "source": [
    "df_data.printSchema()"
   ]
  },
  {
   "cell_type": "code",
   "execution_count": 131,
   "id": "e7d3faae",
   "metadata": {},
   "outputs": [
    {
     "name": "stdout",
     "output_type": "stream",
     "text": [
      "+--------------------+---------------+--------------------+--------------------+\n",
      "|                path|          label|            img_prep|         img_orb_des|\n",
      "+--------------------+---------------+--------------------+--------------------+\n",
      "|s3://hangp8/train...|Apple Pink Lady|[255, 255, 255, 2...|[223, 22, 255, 24...|\n",
      "|s3://hangp8/train...|Apple Pink Lady|[255, 255, 255, 2...|[237, 253, 189, 1...|\n",
      "|s3://hangp8/train...|Apple Pink Lady|[255, 255, 255, 2...|[223, 22, 255, 25...|\n",
      "|s3://hangp8/train...|Apple Pink Lady|[255, 255, 255, 2...|[191, 180, 253, 2...|\n",
      "|s3://hangp8/train...|Apple Pink Lady|[255, 255, 255, 2...|[223, 28, 191, 25...|\n",
      "|s3://hangp8/train...|Apple Pink Lady|[255, 255, 255, 2...|[74, 60, 187, 240...|\n",
      "|s3://hangp8/train...|Apple Pink Lady|[255, 255, 255, 2...|[139, 158, 107, 2...|\n",
      "|s3://hangp8/train...|Apple Pink Lady|[255, 255, 255, 2...|[138, 184, 186, 1...|\n",
      "|s3://hangp8/train...|Apple Pink Lady|[255, 255, 255, 2...|[154, 184, 187, 1...|\n",
      "|s3://hangp8/train...|Apple Pink Lady|[242, 255, 255, 2...|[161, 189, 61, 24...|\n",
      "|s3://hangp8/train...|Apple Pink Lady|[255, 255, 255, 2...|[205, 188, 255, 2...|\n",
      "|s3://hangp8/train...|Apple Pink Lady|[255, 255, 255, 2...|[137, 189, 57, 24...|\n",
      "|s3://hangp8/train...|Apple Pink Lady|[255, 255, 255, 2...|[74, 188, 187, 20...|\n",
      "|s3://hangp8/train...|Apple Pink Lady|[255, 255, 255, 2...|[158, 184, 170, 1...|\n",
      "|s3://hangp8/train...|Apple Pink Lady|[255, 255, 255, 2...|[47, 52, 226, 216...|\n",
      "|s3://hangp8/train...|Apple Pink Lady|[255, 255, 255, 2...|[138, 158, 106, 1...|\n",
      "|s3://hangp8/train...|Apple Pink Lady|[255, 255, 255, 2...|[43, 185, 240, 91...|\n",
      "|s3://hangp8/train...|Apple Pink Lady|[255, 255, 255, 2...|[8, 156, 255, 253...|\n",
      "|s3://hangp8/train...|Apple Pink Lady|[255, 255, 255, 2...|[43, 156, 241, 21...|\n",
      "|s3://hangp8/train...|Apple Pink Lady|[255, 255, 255, 2...|[237, 52, 179, 11...|\n",
      "+--------------------+---------------+--------------------+--------------------+\n",
      "only showing top 20 rows\n",
      "\n"
     ]
    }
   ],
   "source": [
    "df_data.select('path', 'label', 'Output.*').show()"
   ]
  },
  {
   "cell_type": "markdown",
   "id": "96a0391d",
   "metadata": {},
   "source": [
    "### II. iii KMEANS ORB"
   ]
  },
  {
   "cell_type": "code",
   "execution_count": 132,
   "id": "0331fa56",
   "metadata": {
    "collapsed": true,
    "jupyter": {
     "outputs_hidden": true
    }
   },
   "outputs": [
    {
     "data": {
      "text/plain": [
       "Row(img_orb_des=array([[223,  22, 255, 247, 174, 126, 255, 159, 255, 254, 191, 246, 221,\n",
       "        126, 223, 111, 255, 215, 255, 167, 181, 229, 255, 234, 255, 255,\n",
       "        127, 142, 143, 253, 173, 117],\n",
       "       [ 11, 158, 255, 253,  50, 191, 121,  55,  63,  75, 126, 244, 188,\n",
       "         63, 132, 100, 231,  63,  63, 140, 163, 156,  33, 255, 198, 255,\n",
       "        122, 130,  30, 192, 161, 121],\n",
       "       [ 10,  24, 187, 249,  55, 244, 185,  87, 191,  79,  86, 119, 188,\n",
       "        191,  34, 232, 231,  59, 191, 145, 147, 156,  50, 227, 199, 247,\n",
       "         58, 203, 154,  68,  37, 251],\n",
       "       [201, 156,  62, 249,  57, 255, 121,  55, 189,  95,  62,  84, 190,\n",
       "         63,  34, 115, 167,  51, 127,   8, 179, 205,  51, 215, 207, 251,\n",
       "        122, 194, 154, 128, 133, 123],\n",
       "       [138, 156,  63, 249,  51, 253, 185,  87, 191,  95,  86,  51, 188,\n",
       "        159,  34, 105, 167,  51, 223,  17, 179, 205,  50, 247, 207, 215,\n",
       "         58, 195, 154,   4, 173, 251],\n",
       "       [202, 184, 191, 252, 233, 252, 117,  55, 185,  95, 246,  20, 188,\n",
       "        191, 102, 122, 229, 119, 255,   0, 211, 109, 178, 195, 215, 255,\n",
       "         82,  10, 138,  64, 167, 123],\n",
       "       [ 15,  84, 239, 199, 166, 118, 253, 220,  63, 251, 215, 230, 221,\n",
       "        127, 159, 111, 127, 197, 191, 191, 145, 209, 189, 192, 127, 123,\n",
       "        255, 198, 143, 247, 165, 245],\n",
       "       [189,  85, 255, 254, 229, 119, 255, 120,  85, 206, 247,   6,  91,\n",
       "        253, 191, 105, 124, 252, 183, 239, 233, 247, 125, 238, 115, 251,\n",
       "        239, 132,  63, 255, 116, 241],\n",
       "       [220,  30, 191, 246, 169, 110, 125,  19, 189, 238, 191,  21, 223,\n",
       "        255,  19, 123, 229, 247, 253, 167, 185, 197, 187, 194, 211, 255,\n",
       "        251, 144, 130, 241, 165, 115],\n",
       "       [169, 222,  61, 249,  44, 207,  93, 191, 222, 126, 148,  84, 255,\n",
       "         93,  26,  97, 205,  19,  93, 111, 235, 108, 123, 159, 231, 219,\n",
       "        255, 212,  28, 152, 212, 121],\n",
       "       [ 74, 172, 234, 188, 203, 240,  57, 199, 171,  23, 204, 179,  44,\n",
       "        191, 102, 214, 231, 187, 251, 129,  22,  11, 162, 243, 219, 117,\n",
       "        154, 235, 183,  68, 175, 250],\n",
       "       [ 73,  60, 187, 245, 180, 238, 125,  23, 254, 237, 126,  92, 191,\n",
       "        191,  65,  58, 133, 126, 125,  28, 147, 248, 243,  10, 239, 253,\n",
       "         54, 128, 200, 216, 199, 123]]), img_prep=array([[[255, 255, 255],\n",
       "        [255, 255, 255],\n",
       "        [255, 255, 255],\n",
       "        ...,\n",
       "        [255, 255, 255],\n",
       "        [255, 255, 255],\n",
       "        [255, 255, 255]],\n",
       "\n",
       "       [[255, 255, 255],\n",
       "        [255, 255, 255],\n",
       "        [255, 255, 255],\n",
       "        ...,\n",
       "        [255, 255, 255],\n",
       "        [255, 255, 255],\n",
       "        [255, 255, 255]],\n",
       "\n",
       "       [[255, 255, 255],\n",
       "        [255, 255, 255],\n",
       "        [255, 255, 255],\n",
       "        ...,\n",
       "        [255, 255, 255],\n",
       "        [255, 255, 255],\n",
       "        [255, 255, 255]],\n",
       "\n",
       "       ...,\n",
       "\n",
       "       [[255, 255, 255],\n",
       "        [255, 255, 255],\n",
       "        [255, 255, 255],\n",
       "        ...,\n",
       "        [255, 255, 255],\n",
       "        [255, 255, 255],\n",
       "        [255, 255, 255]],\n",
       "\n",
       "       [[255, 255, 255],\n",
       "        [255, 255, 255],\n",
       "        [255, 255, 255],\n",
       "        ...,\n",
       "        [255, 255, 255],\n",
       "        [255, 255, 255],\n",
       "        [255, 255, 255]],\n",
       "\n",
       "       [[255, 255, 255],\n",
       "        [255, 255, 255],\n",
       "        [255, 255, 255],\n",
       "        ...,\n",
       "        [255, 255, 255],\n",
       "        [255, 255, 255],\n",
       "        [255, 255, 255]]]), label='Apple Pink Lady', path='s3://hangp8/train_sample/Apple Pink Lady/100_100.jpg')"
      ]
     },
     "execution_count": 132,
     "metadata": {},
     "output_type": "execute_result"
    }
   ],
   "source": [
    "# convert flatten descriptors to orb ndarray descriptors (n, 32)\n",
    "rdd_data = df_data.rdd.map(lambda x: Row(path = x.path,\\\n",
    "                                         label = x.label,\\\n",
    "                                         img_prep = np.array(x['Output']['img_prep']).reshape(100, 100, 3),\\\n",
    "                                         img_orb_des = np.array(x['Output']['img_orb_des']).reshape(-1, 32)\n",
    "                                        )\n",
    "                          )\n",
    "# check orb descriptors of 1st image\n",
    "rdd_data.first()"
   ]
  },
  {
   "cell_type": "code",
   "execution_count": null,
   "id": "02d821e9",
   "metadata": {},
   "outputs": [],
   "source": [
    "# list all descriptors for latter use in kmeans\n",
    "all_desp = rdd_data.flatMap(lambda row: [i for i in row['img_orb_des']])"
   ]
  },
  {
   "cell_type": "code",
   "execution_count": null,
   "id": "18f3c50b",
   "metadata": {},
   "outputs": [],
   "source": [
    "from pyspark.mllib.clustering import KMeans\n",
    "# k is n_cluster, suppose 10*categories\n",
    "k = 10\n",
    "def create_model(rdd, k):\n",
    "    \"\"\"Create kmeans model to create visual words cluster\"\"\"\n",
    "    all_desp = rdd.flatMap(lambda row: [i for i in row['img_orb_des']])\n",
    "    model = KMeans.train(all_desp, k, maxIterations=10, initializationMode=\"random\", seed=42)\n",
    "    return model"
   ]
  },
  {
   "cell_type": "code",
   "execution_count": 109,
   "id": "92900c2d",
   "metadata": {},
   "outputs": [
    {
     "data": {
      "text/plain": [
       "PythonRDD[318] at RDD at PythonRDD.scala:53"
      ]
     },
     "execution_count": 109,
     "metadata": {},
     "output_type": "execute_result"
    }
   ],
   "source": [
    "model_kmeans = create_model(rdd_data, k)\n",
    "model_kmeans.predict(all_desp)"
   ]
  },
  {
   "cell_type": "code",
   "execution_count": 110,
   "id": "f5aa6177",
   "metadata": {},
   "outputs": [
    {
     "data": {
      "text/plain": [
       "9"
      ]
     },
     "execution_count": 110,
     "metadata": {},
     "output_type": "execute_result"
    }
   ],
   "source": [
    "model_kmeans.predict(all_desp).first()"
   ]
  },
  {
   "cell_type": "code",
   "execution_count": 111,
   "id": "ff713857",
   "metadata": {
    "collapsed": true,
    "jupyter": {
     "outputs_hidden": true
    }
   },
   "outputs": [
    {
     "data": {
      "text/plain": [
       "array([[191, 253, 248, 250, 159, 245, 223, 222,  83, 127, 180,  31,  42,\n",
       "        253,  95, 173, 221, 219, 149, 147, 190, 110, 250, 179, 251, 221,\n",
       "        157, 127, 255,  93, 222, 223],\n",
       "       [217, 151, 125, 229,  36, 118,  95, 187,  49, 106, 127, 118, 223,\n",
       "         63, 154, 243, 119, 213, 181, 238, 249, 244, 121, 143, 230, 251,\n",
       "        227, 132,  47, 225, 200, 113],\n",
       "       [190, 220, 126, 250, 207, 247, 159, 254, 155,  95, 221,  31, 108,\n",
       "        255,  62, 205, 255, 251, 183, 135, 252, 199,  58, 255, 251, 255,\n",
       "        223, 219, 183,  95, 173, 223],\n",
       "       [207, 188, 255, 214, 183, 255, 189, 179, 187, 255,  23,  52, 252,\n",
       "        255, 222, 175, 167, 119, 253,  19, 245, 221, 187, 230, 107,  95,\n",
       "        127, 195, 142, 228, 205, 119],\n",
       "       [142, 189, 191, 254, 175, 246, 191, 214, 187,  95, 215, 183, 124,\n",
       "        255, 191, 175, 247, 127, 181, 147, 177, 205, 186, 235, 123, 127,\n",
       "        254, 131, 135, 245, 167, 123],\n",
       "       [138, 156, 255, 254, 247, 246, 255, 246, 153,  79, 124,  50, 252,\n",
       "        255, 175, 175, 239, 115, 183, 131, 177, 205,  58, 235,  99, 255,\n",
       "        254, 131, 142, 245, 229, 251],\n",
       "       [254, 244, 244, 242, 207, 125,  85, 155, 219, 255, 181,  63,  94,\n",
       "        253,  79, 191, 141, 215, 245,  19, 191, 118, 250, 226, 219, 219,\n",
       "         85, 255, 235, 125, 206,  87],\n",
       "       [205, 159, 124, 253, 160,  54, 127, 186,  48, 106, 118, 116, 221,\n",
       "        127, 154, 115,  23,  87, 125, 234, 241, 212, 121, 191, 102, 239,\n",
       "        225, 196, 175, 241, 201, 113],\n",
       "       [219, 118, 253, 246, 169, 118,  95,  61,  57, 202, 181, 116, 127,\n",
       "        127, 143,  59, 150, 215, 253, 170, 237, 198, 123, 202, 227, 251,\n",
       "        117, 146,  42, 245, 207, 123],\n",
       "       [191,  86, 204, 247, 172, 119, 126, 248, 151, 250, 151, 215, 219,\n",
       "        111,  59, 235, 127, 197, 255, 239, 237, 215,  91, 234, 254, 251,\n",
       "        239, 149, 191, 255, 121,  81],\n",
       "       [174, 180, 185, 250, 253, 253, 219, 223,  27,  95, 189,  29, 142,\n",
       "        253, 126, 152, 221,  27, 151,  21, 183, 111,  58, 243, 251, 221,\n",
       "        158, 255, 154,  76, 255, 247],\n",
       "       [207, 180, 185, 250, 189, 253, 121, 223,  63,  95, 181,  61, 159,\n",
       "        223, 250, 121, 223, 155, 223,  61, 187, 100, 122, 247, 239, 223,\n",
       "         62, 254, 154, 205, 213, 115],\n",
       "       [ 72, 251, 253, 245, 236,  79, 109, 191,  55, 251, 246, 104, 255,\n",
       "        119, 208, 114,  95, 214, 127, 168, 249, 250, 251, 207, 239, 255,\n",
       "        247, 140, 166, 160, 230, 121],\n",
       "       [141, 252, 253, 245, 124,  95, 255, 186, 127, 250, 246, 108, 251,\n",
       "        121, 151,  51,  95, 204, 126, 110, 225, 244, 253, 223, 238, 223,\n",
       "        231, 180, 239, 233,  72, 241],\n",
       "       [253, 180, 253, 253,  60,  63, 255, 184,  94, 250, 255, 126, 219,\n",
       "        124, 159,  97,  95, 196, 127,  47, 169, 246, 255, 159, 254, 223,\n",
       "        231, 180, 124, 235,  80, 241],\n",
       "       [255,  86, 236, 247, 172, 118,  94, 184, 159, 250, 183,  87, 219,\n",
       "        111,  95, 123,  95, 196, 255, 238, 233, 103, 219, 232, 251, 251,\n",
       "        231, 156, 174, 251, 248,  80],\n",
       "       [205, 124, 253, 245, 188, 127, 255, 186, 126, 234, 247, 124, 219,\n",
       "         61, 151, 107,  95, 254, 127,  46, 169, 244, 253, 190, 238, 223,\n",
       "        231, 180, 238, 249,  64, 241]])"
      ]
     },
     "execution_count": 111,
     "metadata": {},
     "output_type": "execute_result"
    }
   ],
   "source": [
    "rdd_data.map(lambda row: row['img_orb_des']).first()"
   ]
  },
  {
   "cell_type": "code",
   "execution_count": 112,
   "id": "d4bc8840",
   "metadata": {},
   "outputs": [],
   "source": [
    "def bovw(row, model, k):\n",
    "    n_des = len(row.img_orb_des)\n",
    "    bovw = np.zeros(k)\n",
    "    for des_ in row.img_orb_des:\n",
    "        cluster = model.predict(des_)\n",
    "        #normalize freq\n",
    "        bovw[cluster] += 1/n_des\n",
    "    return Row(path=row.path, label=row.label, bovw=bovw.tolist())"
   ]
  },
  {
   "cell_type": "code",
   "execution_count": 113,
   "id": "b4eb242a",
   "metadata": {},
   "outputs": [],
   "source": [
    "bovw_rdd = rdd_data.map(lambda x: bovw(x, model_kmeans, k))"
   ]
  },
  {
   "cell_type": "code",
   "execution_count": 114,
   "id": "27047ea5",
   "metadata": {
    "collapsed": true,
    "jupyter": {
     "outputs_hidden": true
    }
   },
   "outputs": [
    {
     "name": "stdout",
     "output_type": "stream",
     "text": [
      "+--------------------+------------------+--------------------+\n",
      "|                bovw|             label|                path|\n",
      "+--------------------+------------------+--------------------+\n",
      "|[0.0, 0.176470588...|Apple Golden Small|s3://hangp8/train...|\n",
      "|[0.0, 0.2, 0.05, ...|Apple Golden Small|s3://hangp8/train...|\n",
      "|[0.04761904761904...|Apple Golden Small|s3://hangp8/train...|\n",
      "|[0.05, 0.15000000...|Apple Golden Small|s3://hangp8/train...|\n",
      "|[0.0, 0.045454545...|Apple Golden Small|s3://hangp8/train...|\n",
      "|[0.05, 0.05, 0.05...|Apple Golden Small|s3://hangp8/train...|\n",
      "|[0.04761904761904...|Apple Golden Small|s3://hangp8/train...|\n",
      "+--------------------+------------------+--------------------+\n",
      "\n"
     ]
    }
   ],
   "source": [
    "bovw_rdd.toDF().show()"
   ]
  },
  {
   "cell_type": "markdown",
   "id": "6394978f",
   "metadata": {},
   "source": [
    "# III. Compare instances\n",
    "By using integrated .py file to compare processing time of different instances"
   ]
  },
  {
   "cell_type": "markdown",
   "id": "85b05793",
   "metadata": {},
   "source": [
    "## III.i Instance ml.t3.medium"
   ]
  },
  {
   "cell_type": "code",
   "execution_count": 1,
   "id": "41491f3b",
   "metadata": {},
   "outputs": [
    {
     "name": "stdout",
     "output_type": "stream",
     "text": [
      "+--------------------+---------------+--------------------+\n",
      "|                bovw|          label|                path|\n",
      "+--------------------+---------------+--------------------+\n",
      "|[0.0, 0.0, 0.0, 0...|Apple Pink Lady|s3://hangp8/train...|\n",
      "|[0.0, 0.0, 0.0, 0...|Apple Pink Lady|s3://hangp8/train...|\n",
      "|[0.0, 0.0, 0.0, 0...|Apple Pink Lady|s3://hangp8/train...|\n",
      "|[0.0, 0.0, 0.125,...|Apple Pink Lady|s3://hangp8/train...|\n",
      "|[0.0, 0.0, 0.1538...|Apple Pink Lady|s3://hangp8/train...|\n",
      "|[0.0, 0.0, 0.0909...|Apple Pink Lady|s3://hangp8/train...|\n",
      "|[0.0, 0.0, 0.1818...|Apple Pink Lady|s3://hangp8/train...|\n",
      "|[0.0, 0.0, 0.2142...|Apple Pink Lady|s3://hangp8/train...|\n",
      "|[0.0, 0.0, 0.0769...|Apple Pink Lady|s3://hangp8/train...|\n",
      "|[0.0, 0.0, 0.0714...|Apple Pink Lady|s3://hangp8/train...|\n",
      "+--------------------+---------------+--------------------+\n",
      "only showing top 10 rows\n",
      "\n",
      "total loading and preprocess time: 00:05:02,\n",
      "4821 images,\n",
      "10 categories\n"
     ]
    }
   ],
   "source": [
    "# Run load and preprocess using standard instance ml.t3.medium(2*cpu, 4GB memory)\n",
    "%run -i 'P8_script.py'"
   ]
  },
  {
   "cell_type": "code",
   "execution_count": 5,
   "id": "4b033d7e",
   "metadata": {
    "collapsed": true,
    "jupyter": {
     "outputs_hidden": true
    }
   },
   "outputs": [
    {
     "name": "stdout",
     "output_type": "stream",
     "text": [
      "+----------------------------------------------------+\n",
      "|path                                                |\n",
      "+----------------------------------------------------+\n",
      "|s3://hangp8/train_sample/Apple Pink Lady/0_100.jpg  |\n",
      "|s3://hangp8/train_sample/Apple Pink Lady/100_100.jpg|\n",
      "|s3://hangp8/train_sample/Apple Pink Lady/101_100.jpg|\n",
      "|s3://hangp8/train_sample/Apple Pink Lady/102_100.jpg|\n",
      "|s3://hangp8/train_sample/Apple Pink Lady/103_100.jpg|\n",
      "|s3://hangp8/train_sample/Apple Pink Lady/104_100.jpg|\n",
      "|s3://hangp8/train_sample/Apple Pink Lady/105_100.jpg|\n",
      "|s3://hangp8/train_sample/Apple Pink Lady/106_100.jpg|\n",
      "|s3://hangp8/train_sample/Apple Pink Lady/107_100.jpg|\n",
      "|s3://hangp8/train_sample/Apple Pink Lady/108_100.jpg|\n",
      "|s3://hangp8/train_sample/Apple Pink Lady/109_100.jpg|\n",
      "|s3://hangp8/train_sample/Apple Pink Lady/10_100.jpg |\n",
      "|s3://hangp8/train_sample/Apple Pink Lady/110_100.jpg|\n",
      "|s3://hangp8/train_sample/Apple Pink Lady/111_100.jpg|\n",
      "|s3://hangp8/train_sample/Apple Pink Lady/112_100.jpg|\n",
      "|s3://hangp8/train_sample/Apple Pink Lady/113_100.jpg|\n",
      "|s3://hangp8/train_sample/Apple Pink Lady/114_100.jpg|\n",
      "|s3://hangp8/train_sample/Apple Pink Lady/115_100.jpg|\n",
      "|s3://hangp8/train_sample/Apple Pink Lady/116_100.jpg|\n",
      "|s3://hangp8/train_sample/Apple Pink Lady/117_100.jpg|\n",
      "+----------------------------------------------------+\n",
      "only showing top 20 rows\n",
      "\n"
     ]
    }
   ],
   "source": [
    "# export dataframe under ml.t3.medium(2*cpu, 4GB memory)\n",
    "df_final.select('path').show(truncate=False)"
   ]
  },
  {
   "cell_type": "markdown",
   "id": "d0933761",
   "metadata": {},
   "source": [
    "## III.i Instance ml.c5.2xlarge"
   ]
  },
  {
   "cell_type": "code",
   "execution_count": 1,
   "id": "489eb3ae",
   "metadata": {},
   "outputs": [
    {
     "name": "stdout",
     "output_type": "stream",
     "text": [
      "+--------------------+---------------+--------------------+\n",
      "|                bovw|          label|                path|\n",
      "+--------------------+---------------+--------------------+\n",
      "|[0.0, 0.0, 0.0, 0...|Apple Pink Lady|s3://hangp8/train...|\n",
      "|[0.0, 0.0, 0.0833...|Apple Pink Lady|s3://hangp8/train...|\n",
      "|[0.0, 0.1, 0.0, 0...|Apple Pink Lady|s3://hangp8/train...|\n",
      "|[0.0, 0.0, 0.0, 0...|Apple Pink Lady|s3://hangp8/train...|\n",
      "|[0.0, 0.0, 0.0, 0...|Apple Pink Lady|s3://hangp8/train...|\n",
      "|[0.0, 0.0, 0.0, 0...|Apple Pink Lady|s3://hangp8/train...|\n",
      "|[0.0, 0.0, 0.0, 0...|Apple Pink Lady|s3://hangp8/train...|\n",
      "|[0.0, 0.0, 0.0, 0...|Apple Pink Lady|s3://hangp8/train...|\n",
      "|[0.0, 0.0, 0.0, 0...|Apple Pink Lady|s3://hangp8/train...|\n",
      "|[0.0, 0.0, 0.0, 0...|Apple Pink Lady|s3://hangp8/train...|\n",
      "+--------------------+---------------+--------------------+\n",
      "only showing top 10 rows\n",
      "\n",
      "total loading and preprocess time: 00:01:52,\n",
      "4821 images,\n",
      "10 categories\n"
     ]
    }
   ],
   "source": [
    "# manually change instance to c5.2xlarge\n",
    "# Run load and preprocess using compute optimized instance ml.c5.2xlarge(8*cpu, 16GB memory), 5GB EBS\n",
    "%run -i 'P8_script.py'"
   ]
  },
  {
   "cell_type": "code",
   "execution_count": 1,
   "id": "5c72ea38",
   "metadata": {},
   "outputs": [
    {
     "name": "stdout",
     "output_type": "stream",
     "text": [
      "+--------------------+---------------+--------------------+\n",
      "|                bovw|          label|                path|\n",
      "+--------------------+---------------+--------------------+\n",
      "|[0.0, 0.0, 0.0, 0...|Apple Pink Lady|s3://hangp8/train...|\n",
      "|[0.0, 0.0, 0.0833...|Apple Pink Lady|s3://hangp8/train...|\n",
      "|[0.0, 0.1, 0.0, 0...|Apple Pink Lady|s3://hangp8/train...|\n",
      "|[0.0, 0.0, 0.0, 0...|Apple Pink Lady|s3://hangp8/train...|\n",
      "|[0.0, 0.0, 0.0, 0...|Apple Pink Lady|s3://hangp8/train...|\n",
      "|[0.0, 0.0, 0.0, 0...|Apple Pink Lady|s3://hangp8/train...|\n",
      "|[0.0, 0.0, 0.0, 0...|Apple Pink Lady|s3://hangp8/train...|\n",
      "|[0.0, 0.0, 0.0, 0...|Apple Pink Lady|s3://hangp8/train...|\n",
      "|[0.0, 0.0, 0.0, 0...|Apple Pink Lady|s3://hangp8/train...|\n",
      "|[0.0, 0.0, 0.0, 0...|Apple Pink Lady|s3://hangp8/train...|\n",
      "+--------------------+---------------+--------------------+\n",
      "only showing top 10 rows\n",
      "\n",
      "total loading and preprocess time: 00:01:54,\n",
      "4821 images,\n",
      "10 categories\n"
     ]
    }
   ],
   "source": [
    "# keep instance, manually change EBS to 30GB\n",
    "# Run load and preprocess using compute optimized instance ml.c5.2xlarge(8*cpu, 16GB memory), 30GB EBS\n",
    "%run -i 'P8_script.py'"
   ]
  },
  {
   "cell_type": "code",
   "execution_count": 2,
   "id": "6ac8320b",
   "metadata": {
    "collapsed": true,
    "jupyter": {
     "outputs_hidden": true
    }
   },
   "outputs": [
    {
     "name": "stdout",
     "output_type": "stream",
     "text": [
      "+----------------------------------------------------+\n",
      "|path                                                |\n",
      "+----------------------------------------------------+\n",
      "|s3://hangp8/train_sample/Apple Pink Lady/0_100.jpg  |\n",
      "|s3://hangp8/train_sample/Apple Pink Lady/100_100.jpg|\n",
      "|s3://hangp8/train_sample/Apple Pink Lady/101_100.jpg|\n",
      "|s3://hangp8/train_sample/Apple Pink Lady/102_100.jpg|\n",
      "|s3://hangp8/train_sample/Apple Pink Lady/103_100.jpg|\n",
      "|s3://hangp8/train_sample/Apple Pink Lady/104_100.jpg|\n",
      "|s3://hangp8/train_sample/Apple Pink Lady/105_100.jpg|\n",
      "|s3://hangp8/train_sample/Apple Pink Lady/106_100.jpg|\n",
      "|s3://hangp8/train_sample/Apple Pink Lady/107_100.jpg|\n",
      "|s3://hangp8/train_sample/Apple Pink Lady/108_100.jpg|\n",
      "|s3://hangp8/train_sample/Apple Pink Lady/109_100.jpg|\n",
      "|s3://hangp8/train_sample/Apple Pink Lady/10_100.jpg |\n",
      "|s3://hangp8/train_sample/Apple Pink Lady/110_100.jpg|\n",
      "|s3://hangp8/train_sample/Apple Pink Lady/111_100.jpg|\n",
      "|s3://hangp8/train_sample/Apple Pink Lady/112_100.jpg|\n",
      "|s3://hangp8/train_sample/Apple Pink Lady/113_100.jpg|\n",
      "|s3://hangp8/train_sample/Apple Pink Lady/114_100.jpg|\n",
      "|s3://hangp8/train_sample/Apple Pink Lady/115_100.jpg|\n",
      "|s3://hangp8/train_sample/Apple Pink Lady/116_100.jpg|\n",
      "|s3://hangp8/train_sample/Apple Pink Lady/117_100.jpg|\n",
      "+----------------------------------------------------+\n",
      "only showing top 20 rows\n",
      "\n"
     ]
    }
   ],
   "source": [
    "# export dataframe under ml.c5.2xlarge(8*cpu, 16GB memory) 30GB EBS\n",
    "df_final.select('path').show(truncate=False)"
   ]
  },
  {
   "cell_type": "markdown",
   "id": "8eed86e8",
   "metadata": {},
   "source": [
    "## III.i Instance ml.m5.2xlarge"
   ]
  },
  {
   "cell_type": "code",
   "execution_count": 1,
   "id": "c6c2ecdf",
   "metadata": {},
   "outputs": [
    {
     "name": "stdout",
     "output_type": "stream",
     "text": [
      "+--------------------+---------------+--------------------+\n",
      "|                bovw|          label|                path|\n",
      "+--------------------+---------------+--------------------+\n",
      "|[0.0, 0.0, 0.0, 0...|Apple Pink Lady|s3://hangp8/train...|\n",
      "|[0.0, 0.0, 0.0833...|Apple Pink Lady|s3://hangp8/train...|\n",
      "|[0.0, 0.1, 0.0, 0...|Apple Pink Lady|s3://hangp8/train...|\n",
      "|[0.0, 0.0, 0.0, 0...|Apple Pink Lady|s3://hangp8/train...|\n",
      "|[0.0, 0.0, 0.0, 0...|Apple Pink Lady|s3://hangp8/train...|\n",
      "|[0.0, 0.0, 0.0, 0...|Apple Pink Lady|s3://hangp8/train...|\n",
      "|[0.0, 0.0, 0.0, 0...|Apple Pink Lady|s3://hangp8/train...|\n",
      "|[0.0, 0.0, 0.0, 0...|Apple Pink Lady|s3://hangp8/train...|\n",
      "|[0.0, 0.0, 0.0, 0...|Apple Pink Lady|s3://hangp8/train...|\n",
      "|[0.0, 0.0, 0.0, 0...|Apple Pink Lady|s3://hangp8/train...|\n",
      "+--------------------+---------------+--------------------+\n",
      "only showing top 10 rows\n",
      "\n",
      "total loading and preprocess time: 00:02:09,\n",
      "4821 images,\n",
      "10 categories\n"
     ]
    }
   ],
   "source": [
    "# manually change instance to m5.2xlarge\n",
    "# Run load and preprocess using standard instance ml.m5.2xlarge(8*cpu, 32GB memory), 5GB EBS \n",
    "%run -i 'P8_script.py'"
   ]
  },
  {
   "cell_type": "markdown",
   "id": "0d56d77e",
   "metadata": {},
   "source": [
    "# Export data to S3"
   ]
  },
  {
   "cell_type": "code",
   "execution_count": 2,
   "id": "71c81a25",
   "metadata": {},
   "outputs": [
    {
     "name": "stdout",
     "output_type": "stream",
     "text": [
      "save in S3 successfully!\n",
      "Total export time using ml.t3.medium: 00:04:26\n"
     ]
    }
   ],
   "source": [
    "# manually change instance\n",
    "# write data to S3 using instance ml.t3.medium(2*cpu, 4GB memory)\n",
    "t = time.time() \n",
    "df_final = bovw_rdd.toDF()\n",
    "df_final.write.parquet('s3a://{}/output_sample/'.format(bucket_name), mode=\"overwrite\")\n",
    "print('save in S3 successfully!\\nTotal export time using ml.t3.medium: {}'.format(time.strftime(\"%H:%M:%S\", time.gmtime(time.time()-t))))"
   ]
  },
  {
   "cell_type": "code",
   "execution_count": 3,
   "id": "9f2c2792",
   "metadata": {},
   "outputs": [
    {
     "name": "stdout",
     "output_type": "stream",
     "text": [
      "save in S3 successfully!\n",
      "Total export time using ml.c5.2xlarge: 00:01:32\n"
     ]
    }
   ],
   "source": [
    "# manually change instance\n",
    "# write data to S3 using instance ml.c5.2xlarge(8*cpu, 16GB memory)\n",
    "t = time.time() \n",
    "df_final = bovw_rdd.toDF()\n",
    "df_final.write.parquet('s3a://{}/output_sample/'.format(bucket_name), mode=\"overwrite\")\n",
    "print('save in S3 successfully!\\nTotal export time using ml.c5.2xlarge: {}'.format(time.strftime(\"%H:%M:%S\", time.gmtime(time.time()-t))))"
   ]
  },
  {
   "cell_type": "code",
   "execution_count": 4,
   "id": "6942a225",
   "metadata": {},
   "outputs": [
    {
     "name": "stdout",
     "output_type": "stream",
     "text": [
      "save in S3 successfully!\n",
      "Total export time using ml.m5.2xlarge: 00:01:30\n"
     ]
    }
   ],
   "source": [
    "# manually change instance\n",
    "# write data to S3 using instance ml.m5.2xlarge(8*cpu, 32GB memory)\n",
    "t = time.time() \n",
    "df_final = bovw_rdd.toDF()\n",
    "df_final.write.parquet('s3a://{}/output_sample/'.format(bucket_name), mode=\"overwrite\")\n",
    "print('save in S3 successfully!\\nTotal export time using ml.m5.2xlarge: {}'.format(time.strftime(\"%H:%M:%S\", time.gmtime(time.time()-t))))"
   ]
  },
  {
   "cell_type": "code",
   "execution_count": 183,
   "id": "d2d0c901",
   "metadata": {},
   "outputs": [
    {
     "name": "stdout",
     "output_type": "stream",
     "text": [
      "root\n",
      " |-- bovw: array (nullable = true)\n",
      " |    |-- element: double (containsNull = true)\n",
      " |-- label: string (nullable = true)\n",
      " |-- path: string (nullable = true)\n",
      "\n"
     ]
    }
   ],
   "source": [
    "# check if data has been correctly saved in S3\n",
    "# read parquet from s3\n",
    "df_check = spark.read.parquet('s3a://hangp8/output_sample/')\n",
    "df_check.printSchema()"
   ]
  },
  {
   "cell_type": "code",
   "execution_count": 184,
   "id": "dc54fb17",
   "metadata": {},
   "outputs": [
    {
     "name": "stdout",
     "output_type": "stream",
     "text": [
      "+--------------------+--------------+--------------------+\n",
      "|                path|         label|                bovw|\n",
      "+--------------------+--------------+--------------------+\n",
      "|s3://hangp8/train...|Cherry Rainier|[0.0, 0.0, 0.0, 0...|\n",
      "|s3://hangp8/train...|Cherry Rainier|[0.0, 0.0, 0.0476...|\n",
      "|s3://hangp8/train...|Cherry Rainier|[0.0, 0.0, 0.0869...|\n",
      "|s3://hangp8/train...|Cherry Rainier|[0.0, 0.0, 0.0, 0...|\n",
      "|s3://hangp8/train...|Cherry Rainier|[0.0, 0.0, 0.0869...|\n",
      "+--------------------+--------------+--------------------+\n",
      "only showing top 5 rows\n",
      "\n"
     ]
    }
   ],
   "source": [
    "df_check.select('path', 'label', 'bovw').show(5)"
   ]
  },
  {
   "cell_type": "code",
   "execution_count": 185,
   "id": "76f2eabd",
   "metadata": {},
   "outputs": [
    {
     "data": {
      "text/plain": [
       "4821"
      ]
     },
     "execution_count": 185,
     "metadata": {},
     "output_type": "execute_result"
    }
   ],
   "source": [
    "df_check.count()"
   ]
  },
  {
   "cell_type": "code",
   "execution_count": 186,
   "id": "14f8eb2a",
   "metadata": {},
   "outputs": [
    {
     "data": {
      "text/plain": [
       "10"
      ]
     },
     "execution_count": 186,
     "metadata": {},
     "output_type": "execute_result"
    }
   ],
   "source": [
    "df_check.select('label').distinct().count()"
   ]
  },
  {
   "cell_type": "markdown",
   "id": "6dbec0bc",
   "metadata": {},
   "source": [
    "# Brouillons\n",
    "Exploration on a single image"
   ]
  },
  {
   "cell_type": "markdown",
   "id": "6e947884",
   "metadata": {},
   "source": [
    "## Import and export single image to S3"
   ]
  },
  {
   "cell_type": "code",
   "execution_count": 1,
   "id": "0d2bde9d",
   "metadata": {},
   "outputs": [],
   "source": [
    "from PIL import Image, ImageOps, ImageFilter\n",
    "import matplotlib.pyplot as plt\n",
    "import cv2 as cv"
   ]
  },
  {
   "cell_type": "code",
   "execution_count": 3,
   "id": "ce1ccb60",
   "metadata": {},
   "outputs": [],
   "source": [
    "from PIL import Image\n",
    "from io import BytesIO\n",
    "import numpy as np\n",
    "def read_image_from_s3(path, region_name=region, bucket='hangtestbucket'):\n",
    "    \"\"\"Load image file from s3.\n",
    "\n",
    "    Parameters\n",
    "    ----------\n",
    "    bucket: string\n",
    "        Bucket name\n",
    "    path : string\n",
    "        Path in s3\n",
    "\n",
    "    Returns\n",
    "    -------\n",
    "    np array\n",
    "        Image array\n",
    "    \"\"\"\n",
    "    s3 = boto3.resource('s3', region_name=region_name)\n",
    "    bucket = s3.Bucket(bucket)\n",
    "    object = bucket.Object(path)\n",
    "    response = object.get()\n",
    "    file_stream = response['Body']\n",
    "    im = Image.open(file_stream)\n",
    "    return im\n",
    "    #return np.array(im)\n",
    "\n",
    "def write_image_to_s3(img_array, path, region_name=region, bucket='hangtestbucket'):\n",
    "    \"\"\"Write an image array into S3 bucket\n",
    "\n",
    "    Parameters\n",
    "    ----------\n",
    "    bucket: string\n",
    "        Bucket name\n",
    "    path : string\n",
    "        Path in s3\n",
    "\n",
    "    Returns\n",
    "    -------\n",
    "    None\n",
    "    \"\"\"\n",
    "    s3 = boto3.resource('s3', region_name)\n",
    "    bucket = s3.Bucket(bucket)\n",
    "    object = bucket.Object(path)\n",
    "    file_stream = BytesIO()\n",
    "    im = Image.fromarray(img_array)\n",
    "    im.save(file_stream, format='jpeg')\n",
    "    object.put(Body=file_stream.getvalue())"
   ]
  },
  {
   "cell_type": "code",
   "execution_count": 5,
   "id": "05b6aa49",
   "metadata": {},
   "outputs": [
    {
     "data": {
      "text/plain": [
       "<matplotlib.image.AxesImage at 0x7effc23853c8>"
      ]
     },
     "execution_count": 5,
     "metadata": {},
     "output_type": "execute_result"
    },
    {
     "data": {
      "image/png": "[encoded data removed]",
      "text/plain": [
       "<Figure size 432x288 with 1 Axes>"
      ]
     },
     "metadata": {
      "needs_background": "light"
     },
     "output_type": "display_data"
    }
   ],
   "source": [
    "import matplotlib.pyplot as plt\n",
    "img = read_image_from_s3(path='75_100.jpg')\n",
    "\n",
    "plt.imshow(np.array(img))"
   ]
  },
  {
   "cell_type": "code",
   "execution_count": 6,
   "id": "5ae5d9ac",
   "metadata": {},
   "outputs": [],
   "source": [
    "# autocontrast img to prevent over-exposition and under-exposition\n",
    "tmp1 = ImageOps.autocontrast(img, cutoff=1)\n",
    "# equalize image histogram to creat a uniform distribution of grayscale\n",
    "tmp2 = ImageOps.equalize(tmp1)"
   ]
  },
  {
   "cell_type": "code",
   "execution_count": 10,
   "id": "8ae6a5f0",
   "metadata": {},
   "outputs": [],
   "source": [
    "def display_img(imgs=list, title=None, size=3):\n",
    "    \"\"\"This function display all images in imgs list\"\"\"\n",
    "    n = len(imgs)\n",
    "    plt.figure(figsize=(size*n,size))\n",
    "    t = range(n) if title==None else title\n",
    "    for img, i in zip(imgs, range(n)):\n",
    "        plt.subplot(1,n,i+1), plt.imshow(img, cmap='gray'), plt.title(t[i])\n",
    "    plt.show()"
   ]
  },
  {
   "cell_type": "code",
   "execution_count": 11,
   "id": "0fd3d353",
   "metadata": {},
   "outputs": [
    {
     "data": {
      "image/png": "[encoded data removed]",
      "text/plain": [
       "<Figure size 648x216 with 3 Axes>"
      ]
     },
     "metadata": {
      "needs_background": "light"
     },
     "output_type": "display_data"
    }
   ],
   "source": [
    "display_img(imgs=[img, tmp1, tmp2], title=['original', 'autocontrast', 'equalization'])"
   ]
  },
  {
   "cell_type": "code",
   "execution_count": 46,
   "id": "cdacb43e",
   "metadata": {},
   "outputs": [],
   "source": [
    "write_image_to_s3(img, path='export_test.jpeg')"
   ]
  },
  {
   "cell_type": "code",
   "execution_count": 9,
   "id": "02cdabe0",
   "metadata": {},
   "outputs": [
    {
     "data": {
      "image/png": "[encoded data removed]",
      "text/plain": [
       "<Figure size 648x216 with 3 Axes>"
      ]
     },
     "metadata": {
      "needs_background": "light"
     },
     "output_type": "display_data"
    }
   ],
   "source": [
    "# change of histogram of grey level\n",
    "fig, ax = plt.subplots(1, 3, figsize=(9, 3))\n",
    "for img_, i, title_ in zip([img, tmp1, tmp2], range(3),\n",
    "                           ['original', 'autocontrast', 'equalization'] ):\n",
    "    tmp = np.array(img_).flatten()\n",
    "    ax[i].hist(tmp, bins=256, log=(0,1))\n",
    "    ax[i].set(title=title_, xlabel='greyscale',\n",
    "              ylabel=['number of pixels' if i==0 else None][0] )"
   ]
  }
 ],
 "metadata": {
  "kernelspec": {
   "display_name": "conda_amazonei_mxnet_p36",
   "language": "python",
   "name": "conda_amazonei_mxnet_p36"
  },
  "language_info": {
   "codemirror_mode": {
    "name": "ipython",
    "version": 3
   },
   "file_extension": ".py",
   "mimetype": "text/x-python",
   "name": "python",
   "nbconvert_exporter": "python",
   "pygments_lexer": "ipython3",
   "version": "3.6.13"
  }
 },
 "nbformat": 4,
 "nbformat_minor": 5
}
